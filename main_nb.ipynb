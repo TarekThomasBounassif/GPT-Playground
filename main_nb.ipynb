{
 "cells": [
  {
   "cell_type": "code",
   "execution_count": 21,
   "metadata": {},
   "outputs": [],
   "source": [
    "import key\n",
    "import prompts_test_1\n",
    "import gpt_model\n",
    "import reddit_scrape\n",
    "import text_cleaner\n",
    "from importlib import reload"
   ]
  },
  {
   "cell_type": "code",
   "execution_count": 10,
   "metadata": {},
   "outputs": [],
   "source": [
    "max_tokens = 1024\n",
    "model_choice = \"text-davinci-003\""
   ]
  },
  {
   "cell_type": "code",
   "execution_count": 5,
   "metadata": {},
   "outputs": [],
   "source": [
    "model = gpt_model.GPTModel(key.api_key, model_choice)"
   ]
  },
  {
   "cell_type": "code",
   "execution_count": 9,
   "metadata": {},
   "outputs": [],
   "source": [
    "subject_prompt = prompts_test_1.subject_id_prompt.format(prompts_test_1.tweet)\n",
    "subject = model.get_completion_text(model.send_completion_req(subject_prompt, max_tokens))\n",
    "sentiment_prompt = prompts_test_1.sentiment_extract_prompt.format(prompts_test_1.tweet, subject)\n",
    "sentiment_dict = model.get_json_resp_dict(\n",
    "    model.send_completion_req(sentiment_prompt, max_tokens)\n",
    ")\n",
    "sentiment_dict['subject'] = subject\n"
   ]
  },
  {
   "cell_type": "code",
   "execution_count": 22,
   "metadata": {},
   "outputs": [
    {
     "name": "stderr",
     "output_type": "stream",
     "text": [
      "[nltk_data] Downloading package stopwords to\n",
      "[nltk_data]     /Users/tarekbounassif/nltk_data...\n",
      "[nltk_data]   Package stopwords is already up-to-date!\n"
     ]
    },
    {
     "name": "stdout",
     "output_type": "stream",
     "text": [
      "Biden vs. Trump 2024 would be the rematch nobody wants\n",
      "biden vs. trump 2024 would rematch nobody wants\n",
      "Judge rebukes Trump for ‘entirely inappropriate’ post before E Jean Carroll testimony | Donald Trump\n",
      "judge rebukes trump ‘entirely inappropriate’ post jean carroll testimony donald trump\n",
      "Clarence Thomas Said His Billionaire Friend Didn’t Come Before The Court — But His Business Interests Did\n",
      "clarence thomas said billionaire friend didn’t come court business interests\n",
      "Republicans use debt ceiling bill to push work requirements for millions receiving Medicaid and food stamps\n",
      "republicans use debt ceiling bill push work requirements millions receiving medicaid food stamps\n",
      "Trump lawyers rail against DOJ in letter, reveal foreign leader briefings may be among classified documents taken from White House\n",
      "trump lawyers rail doj letter, reveal foreign leader briefings may among classified documents taken white house\n",
      "GOP Sen. Tuberville blocked 184 military promotions in his ongoing abortion fight with the Pentagon\n",
      "gop sen. tuberville blocked 184 military promotions ongoing abortion fight pentagon\n",
      "Trump suggested he won't attend a GOP presidential debate because the venue's board chair publishes the Washington Post. But he took part in the same debate in 2015.\n",
      "trump suggested attend gop presidential debate venue's board chair publishes washington post. took part debate 2015.\n",
      "US to dock nuclear subs in South Korea for 1st time in 40 years\n",
      "us dock nuclear subs south korea 1st time 40 years\n",
      "“Entirely inappropriate”: Judge rebukes Trump over E. Jean Carroll attack on Truth Social — Judge Lewis Kaplan warned Trump's attorney that his client is \"tampering with a new source of potential liability\"\n",
      "“entirely inappropriate”: judge rebukes trump e. jean carroll attack truth social judge lewis kaplan warned trump's attorney client \"tampering new source potential liability\"\n",
      "The First “Wrongful Death” Case for Helping a Friend Get an Abortion. The lawsuit’s long game — beyond instilling fear — is establishing fetal personhood, the holy grail of the anti-abortion movement.\n",
      "first “wrongful death” case helping friend get abortion. lawsuit’s long game beyond instilling fear establishing fetal personhood, holy grail anti-abortion movement.\n",
      "[{'post_id': '12ztzm2', 'subreddit': 'politics', 'Subject': '\\n\"Biden\" and \"Trump\"', 'TextContent': 0}, {'post_id': '12ztz30', 'subreddit': 'politics', 'Subject': '\\nDonald Trump.', 'TextContent': 0}, {'post_id': '12ztm1r', 'subreddit': 'politics', 'Subject': '\\nClarence Thomas', 'TextContent': 0}, {'post_id': '12zsynt', 'subreddit': 'politics', 'Subject': '\\nRepublicans', 'TextContent': 0}, {'post_id': '12zswbt', 'subreddit': 'politics', 'Subject': '\\nDonald Trump', 'TextContent': 0}, {'post_id': '12zsron', 'subreddit': 'politics', 'Subject': '\\nSen. Tuberville', 'TextContent': 0}, {'post_id': '12zsock', 'subreddit': 'politics', 'Subject': '\\nDonald Trump', 'TextContent': 0}, {'post_id': '12zsg1z', 'subreddit': 'politics', 'Subject': '\\nNuclear subs', 'TextContent': 0}, {'post_id': '12zsfo9', 'subreddit': 'politics', 'Subject': '\\nDonald Trump', 'TextContent': 0}, {'post_id': '12zsars', 'subreddit': 'politics', 'Subject': '\\nAbortion.', 'TextContent': 0}]\n"
     ]
    }
   ],
   "source": [
    "reload(reddit_scrape)\n",
    "reload(text_cleaner)\n",
    "\n",
    "scraper = reddit_scrape.reddit_scrape('Politics')\n",
    "text_cleaner = text_cleaner.TextCleaner()\n",
    "\n",
    "test_posts = scraper.get_posts(10)\n",
    "\n",
    "\n",
    "data = []\n",
    "subjects = []\n",
    "\n",
    "for post in test_posts:\n",
    "    \n",
    "    raw_title = post.title\n",
    "    cleaned_title = \" \".join(text_cleaner.tokenize(raw_title))\n",
    "    subject_prompt = prompts_test_1.subject_id_prompt.format(cleaned_title)\n",
    "    subject = model.get_completion_text(model.send_completion_req(subject_prompt, max_tokens))\n",
    "    subjects.append(subject)\n",
    "\n",
    "    print(raw_title)\n",
    "    print(cleaned_title)\n",
    "\n",
    "    data_row = {\n",
    "        'post_id': post.id,\n",
    "        'subreddit': post.subreddit.display_name,\n",
    "        'Subject': subject,\n",
    "        'TextContent': 0 if len(post.selftext) == 0 else 1\n",
    "    }\n",
    "    data.append(data_row)\n",
    "    \n",
    "print(subjects)"
   ]
  }
 ],
 "metadata": {
  "kernelspec": {
   "display_name": "gpt",
   "language": "python",
   "name": "python3"
  },
  "language_info": {
   "codemirror_mode": {
    "name": "ipython",
    "version": 3
   },
   "file_extension": ".py",
   "mimetype": "text/x-python",
   "name": "python",
   "nbconvert_exporter": "python",
   "pygments_lexer": "ipython3",
   "version": "3.9.8"
  },
  "orig_nbformat": 4
 },
 "nbformat": 4,
 "nbformat_minor": 2
}
