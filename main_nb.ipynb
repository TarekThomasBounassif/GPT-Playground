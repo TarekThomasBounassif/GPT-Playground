{
 "cells": [
  {
   "cell_type": "code",
   "execution_count": 1,
   "metadata": {},
   "outputs": [
    {
     "name": "stdout",
     "output_type": "stream",
     "text": [
      "0.052734375\n"
     ]
    }
   ],
   "source": [
    "import openai\n",
    "import key\n",
    "import sys\n",
    "import prompts_test_1\n",
    "import gpt_model\n",
    "import functions\n",
    "from importlib import reload\n",
    "from twitter_scraper import get_tweets"
   ]
  },
  {
   "cell_type": "code",
   "execution_count": 2,
   "metadata": {},
   "outputs": [],
   "source": [
    "max_tokens = 1024\n",
    "model_choice = \"text-davinci-003\""
   ]
  },
  {
   "cell_type": "code",
   "execution_count": 3,
   "metadata": {},
   "outputs": [],
   "source": [
    "model = gpt_model.GPTModel(key.api_key, model_choice)"
   ]
  },
  {
   "cell_type": "code",
   "execution_count": 9,
   "metadata": {},
   "outputs": [],
   "source": [
    "subject_prompt = prompts_test_1.subject_id_prompt.format(prompts_test_1.tweet)\n",
    "subject = model.get_completion_text(model.send_completion_req(subject_prompt, max_tokens))\n",
    "sentiment_prompt = prompts_test_1.sentiment_extract_prompt.format(prompts_test_1.tweet, subject)\n",
    "sentiment_dict = model.get_json_resp_dict(\n",
    "    model.send_completion_req(sentiment_prompt, max_tokens)\n",
    ")\n",
    "sentiment_dict['subject'] = subject\n"
   ]
  },
  {
   "cell_type": "code",
   "execution_count": 8,
   "metadata": {},
   "outputs": [
    {
     "data": {
      "text/plain": [
       "{'sentiment': 8,\n",
       " 'words': ['Hello', 'subscribers', 'exclusive'],\n",
       " 'reasoning': \"The text expresses a positive sentiment towards Elon Musk with words such as 'Hello' and 'exclusive', indicating excitement and anticipation of something special.\"}"
      ]
     },
     "execution_count": 8,
     "metadata": {},
     "output_type": "execute_result"
    }
   ],
   "source": [
    "sentiment_dict"
   ]
  }
 ],
 "metadata": {
  "kernelspec": {
   "display_name": "gpt",
   "language": "python",
   "name": "python3"
  },
  "language_info": {
   "codemirror_mode": {
    "name": "ipython",
    "version": 3
   },
   "file_extension": ".py",
   "mimetype": "text/x-python",
   "name": "python",
   "nbconvert_exporter": "python",
   "pygments_lexer": "ipython3",
   "version": "3.9.8"
  },
  "orig_nbformat": 4
 },
 "nbformat": 4,
 "nbformat_minor": 2
}
