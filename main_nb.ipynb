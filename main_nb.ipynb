{
 "cells": [
  {
   "cell_type": "code",
   "execution_count": 125,
   "metadata": {},
   "outputs": [],
   "source": [
    "import openai\n",
    "import key"
   ]
  },
  {
   "cell_type": "code",
   "execution_count": 126,
   "metadata": {},
   "outputs": [],
   "source": [
    "openai.api_key = key.api_key"
   ]
  },
  {
   "cell_type": "code",
   "execution_count": 127,
   "metadata": {},
   "outputs": [],
   "source": [
    "max_tokens = 1024\n",
    "model_choice = \"text-davinci-003\"\n",
    "sub_prompt = \"I fucking love this app man it really is fun to use\"\n",
    "\n",
    "sub_prompt = \"\"\"\n",
    "Just in case you didn’t already hate Brad Paisley enough for teaming up with Jill Biden to push vaccines, here he is singing in Ukraine with Sen. Joe Manchin\n",
    "He won’t play any songs in East Palestine, but he’ll play in Kiev?!\n",
    "\"\"\"\n",
    "\n",
    "sub_prompt = \"\"\"\n",
    "Glory to Ukraine and its soldiers 🇺🇦\"\"\"\n",
    "\n",
    "main_prompt = '''\n",
    "Rate the sentiment of the following phrase enclosed in double quotes on a scale of 1 to 10, \n",
    "1 being extremely negative and 10 being extremely positive, \"{sub}\". \n",
    "Store the result in json format with 4 elements:\n",
    "The first element is the integer rating assigned to the phrase,\n",
    "The second element is a list of the top 3 words used to determine your rating,\n",
    "The third element is the subject of the message summarized in a maximum of 2 words,\n",
    "The fourth element is short and concise explanation for your reasoning for the rating.\n",
    "Keep in mind emotional tone and irony'''.format(sub=sub_prompt)"
   ]
  },
  {
   "cell_type": "code",
   "execution_count": 128,
   "metadata": {},
   "outputs": [],
   "source": [
    "tweet = \"\"\"\"\n",
    "BOYCOTT PHILLIP MORRIS\n",
    "\n",
    "Did you know that, this year, Phillip Morris 🇺🇸 received a “certificate of merit” for its support of the Armed Forces of Russia 🇷🇺?\n",
    "\n",
    "Did you know it is also the largest foreign taxpayer in Russia 🇷🇺.\n",
    "\"\"\"\n",
    "\n",
    "tweet = \"\"\"\n",
    "JUST IN: San Francisco District Attorney Brooke Jenkins slammed Elon Musk on Thursday, saying Musk’s “reckless and irresponsible” tweets about the killing of tech executive Bob Lee contributed to a dangerous fog of misinformation surrounding the case.\"\"\"\n",
    "\n"
   ]
  },
  {
   "cell_type": "code",
   "execution_count": 130,
   "metadata": {},
   "outputs": [],
   "source": [
    "subject_id_prompt = f\"\"\"\n",
    "Based on this text between double quotes \"{tweet}\", identity the overall subject of the text. \n",
    "The subject is the entity the text relates to and not the overall topic. \n",
    "Response should be 1 or 2 words long and should only contain the subject of the text. \n",
    "\"\"\"\n",
    "\n",
    "completion1 = openai.Completion.create(\n",
    "    engine=model_choice,\n",
    "    prompt=subject_id_prompt,\n",
    "    max_tokens=max_tokens,\n",
    "    temperature=0.5,\n",
    "    top_p=1,\n",
    "    frequency_penalty=0,\n",
    "    presence_penalty=0\n",
    ")\n",
    "\n",
    "# Collect the subject\n",
    "extracted_subject = completion1[\"choices\"][0][\"text\"]\n",
    "\n",
    "data_prompt = f\"\"\" \n",
    "Use the text within double quotes \"{tweet}\" to evaluate the sentiment expressed towards \n",
    "the subject \"{extracted_subject}\". Output the result in JSON format with the following elements.\n",
    "First element is the sentiment on a scale of 1 to 10, 1 being most negative 10 being most positive,\n",
    "Second element is a list of the 3 words in the text used the most to determine the rating.\n",
    "Third element is your reasoning for why this rating was chosen.\n",
    "\"\"\"\n",
    "\n",
    "completion2 = openai.Completion.create(\n",
    "    engine=model_choice,\n",
    "    prompt=data_prompt,\n",
    "    max_tokens=max_tokens,\n",
    "    temperature=0.5,\n",
    "    top_p=1,\n",
    "    frequency_penalty=0,\n",
    "    presence_penalty=0\n",
    ")\n"
   ]
  },
  {
   "cell_type": "code",
   "execution_count": 131,
   "metadata": {},
   "outputs": [
    {
     "name": "stdout",
     "output_type": "stream",
     "text": [
      "\n",
      "Bob Lee\n",
      "\n",
      "{\n",
      "    \"Sentiment\": 6,\n",
      "    \"Words\": [\"executive\", \"murdered\", \"conclusions\"],\n",
      "    \"Reasoning\": \"The words used to describe Bob Lee are neutral, and the sentiment towards him is not negative as he was not the one who jumped to conclusions.\"\n",
      "}\n"
     ]
    }
   ],
   "source": [
    "print(completion1[\"choices\"][0][\"text\"])\n",
    "print(completion2[\"choices\"][0][\"text\"])"
   ]
  }
 ],
 "metadata": {
  "kernelspec": {
   "display_name": "gpt",
   "language": "python",
   "name": "python3"
  },
  "language_info": {
   "codemirror_mode": {
    "name": "ipython",
    "version": 3
   },
   "file_extension": ".py",
   "mimetype": "text/x-python",
   "name": "python",
   "nbconvert_exporter": "python",
   "pygments_lexer": "ipython3",
   "version": "3.9.8"
  },
  "orig_nbformat": 4
 },
 "nbformat": 4,
 "nbformat_minor": 2
}
